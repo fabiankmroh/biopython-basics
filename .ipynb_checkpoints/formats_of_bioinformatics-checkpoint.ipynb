{
 "cells": [
  {
   "cell_type": "markdown",
   "id": "25eca218",
   "metadata": {},
   "source": [
    "# FASTA:\n",
    "### Text-Based Format of Nucleic Acid/Protein Sequence\n",
    "## File Layout:\n",
    "Starts w/ Header: `>` \\\n",
    "&#8594; Followed by Sequence at the Next Line (70~80 Texts per Line) \\\n",
    "\\\n",
    "**Single-FASTA file**: Single Type of Sequence \\\n",
    "**Muti-FASTA File**: Includes Multiple Types of Sequence (2+ headers for classifcation)"
   ]
  },
  {
   "cell_type": "markdown",
   "id": "f3a0cd19",
   "metadata": {},
   "source": [
    "# FASTQ\n",
    "### Nucleic Acid Sequence + Quality Score(?) of the Corresponding Nucleic Acid (Also Text-Based Format)\n",
    "## File Layout:\n",
    "**Constituted of Four Lines --> One Read** \\\n",
    "`Read`: Length of Sequencer 'reading' the sample sequence at once \\\n",
    "**FASTQ files have millions/thousands of Reads*\n",
    "\n",
    "## Line Layout:\n",
    "1. Header `@`: Includes Info of the Sequencing\n",
    "2. Nucleic Acid Sequence Read by the Sequencer\n",
    "3. Classification Text: `+`\n",
    "4. Quality Info of the Nucleic Acid\n",
    "## Quality:\n",
    "### `Q = -10 log P`\n",
    "`Q`: Quality\\\n",
    "`P`: Probability\\\n",
    "\\\n",
    "E.x. ?: Quality is 30 (based on ASCII) &#8594; Calculate P: 0.001 \\\n",
    "\\\n",
    "Probability of Correct Sequencing: `1 - P = 0.999` &#8594; 99.9% Probability of Correct Reading of the Sequence"
   ]
  },
  {
   "cell_type": "markdown",
   "id": "57135c03",
   "metadata": {},
   "source": [
    "# SAM/BAM\n",
    "### SAM (Sequence Alignment Map): Aligned Data of Reads on Text-Based Format\n",
    "### BAM (Binary Alignment Map): SAM's Binary Format File &#8594; Better Compression: Smaller File than SAM"
   ]
  },
  {
   "cell_type": "code",
   "execution_count": null,
   "id": "73db4a15",
   "metadata": {},
   "outputs": [],
   "source": []
  }
 ],
 "metadata": {
  "kernelspec": {
   "display_name": "Python 3 (ipykernel)",
   "language": "python",
   "name": "python3"
  },
  "language_info": {
   "codemirror_mode": {
    "name": "ipython",
    "version": 3
   },
   "file_extension": ".py",
   "mimetype": "text/x-python",
   "name": "python",
   "nbconvert_exporter": "python",
   "pygments_lexer": "ipython3",
   "version": "3.9.6"
  }
 },
 "nbformat": 4,
 "nbformat_minor": 5
}
